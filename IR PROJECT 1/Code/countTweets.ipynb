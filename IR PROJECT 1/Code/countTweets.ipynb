{
 "cells": [
  {
   "cell_type": "code",
   "execution_count": 1,
   "metadata": {},
   "outputs": [
    {
     "name": "stdout",
     "output_type": "stream",
     "text": [
      "en_count :  42\n",
      "hi_count :  305\n",
      "pt_count :  0\n",
      "tweets :  338\n",
      "replies :  10\n",
      "total :  348\n"
     ]
    }
   ],
   "source": [
    "import json\n",
    "\n",
    "twitter_user = \"hashtags_yadavakhilesh2\"\n",
    "with open(\"cleanedCrawledData/\"+twitter_user+\".json\", \"r\") as f:\n",
    "    data = json.load(f)\n",
    "\n",
    "en_count=0\n",
    "hi_count=0\n",
    "pt_count=0\n",
    "\n",
    "tweets=0\n",
    "replies=0\n",
    "total=0\n",
    "\n",
    "# len(tweet_list)\n",
    "# len(tweet_replies)\n",
    "\n",
    "\n",
    "\n",
    "for tweet in data:\n",
    "    total = total + 1\n",
    "    try:\n",
    "        if tweet.get('text_en') != None:\n",
    "            en_count = en_count + 1\n",
    "        if tweet.get('text_hi') != None:\n",
    "            hi_count = hi_count + 1\n",
    "        if tweet.get('text_pt') != None:\n",
    "            pt_count = pt_count + 1\n",
    "            \n",
    "        \n",
    "        if not tweet.get('replied_to_tweet_id'):\n",
    "            tweets = tweets + 1\n",
    "        else:\n",
    "            replies = replies + 1\n",
    "        \n",
    "    except Exception as e:\n",
    "        print(\"EXCEPTION\", e, '\\n', tweet)\n",
    "        \n",
    "print(\"en_count : \", en_count)\n",
    "print(\"hi_count : \", hi_count)\n",
    "print(\"pt_count : \", pt_count)\n",
    "print(\"tweets : \", tweets)\n",
    "print(\"replies : \", replies)\n",
    "print(\"total : \", total)\n",
    "# # i=0\n",
    "# for c in tweet_list:\n",
    "#     try:\n",
    "#         if not c.get('replied_to_tweet_id'):\n",
    "#             i = i + 1\n",
    "#     except Exception as e:\n",
    "#         print (e, '\\n', c)\n",
    "# print(i)"
   ]
  },
  {
   "cell_type": "code",
   "execution_count": null,
   "metadata": {},
   "outputs": [],
   "source": []
  }
 ],
 "metadata": {
  "kernelspec": {
   "display_name": "Python 3",
   "language": "python",
   "name": "python3"
  },
  "language_info": {
   "codemirror_mode": {
    "name": "ipython",
    "version": 3
   },
   "file_extension": ".py",
   "mimetype": "text/x-python",
   "name": "python",
   "nbconvert_exporter": "python",
   "pygments_lexer": "ipython3",
   "version": "3.6.0"
  }
 },
 "nbformat": 4,
 "nbformat_minor": 4
}
