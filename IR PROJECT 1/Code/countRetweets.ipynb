{
 "cells": [
  {
   "cell_type": "code",
   "execution_count": 10,
   "metadata": {},
   "outputs": [
    {
     "name": "stdout",
     "output_type": "stream",
     "text": [
      "AmitShah.json\n",
      "0\n",
      "BernieSanders.json\n",
      "0\n",
      "BolsonaroSP.json\n",
      "0\n",
      "CoryBooker.json\n",
      "0\n",
      "Haddad_Fernando.json\n",
      "0\n",
      "Haddad_Fernando5.json\n",
      "0\n",
      "hashtags_AmitShah.json\n",
      "615\n",
      "hashtags_BernieSanders.json\n",
      "600\n",
      "hashtags_bolsonaroSP.json\n",
      "689\n",
      "hashtags_Haddad_Fernando.json\n",
      "322\n",
      "hashtags_jairbolsonaro.json\n",
      "374\n",
      "hashtags_KamalaHarris.json\n",
      "600\n",
      "hashtags_narendramodi.json\n",
      "300\n",
      "hashtags_rajnathsingh.json\n",
      "617\n",
      "hashtags_realDonaldTrump.json\n",
      "300\n",
      "HillaryClinton.json\n",
      "0\n",
      "jairbolsonaro.json\n",
      "0\n",
      "KamalaHarris.json\n",
      "0\n",
      "LulaOficial.json\n",
      "0\n",
      "MarinaSilva.json\n",
      "0\n",
      "MarinaSilva5.json\n",
      "0\n",
      "myogiadityanath.json\n",
      "0\n",
      "narendramodi.json\n",
      "0\n",
      "rajnathsingh.json\n",
      "0\n",
      "realDonaldTrump.json\n",
      "0\n",
      "yadavakhilesh.json\n",
      "0\n"
     ]
    }
   ],
   "source": [
    "import json\n",
    "import datetime\n",
    "from os import listdir\n",
    "from os.path import isfile, join\n",
    "\n",
    "mypath = \"C:/Users/Snigdha Gupta/Documents/Python Scripts/IR Project 1/cleanedCrawledData\"\n",
    "file_names = [files for files in listdir(mypath) if isfile(join(mypath,files))]\n",
    "\n",
    "for file in file_names:\n",
    "    print(file)\n",
    "    with open(\"cleanedCrawledData/\"+file, \"r\") as f:\n",
    "        data = json.load(f)\n",
    "\n",
    "    count = 0\n",
    "\n",
    "    for tweet in data:\n",
    "        if tweet.get('retweeted_status'):\n",
    "            count=count+1\n",
    "\n",
    "    print(count)"
   ]
  },
  {
   "cell_type": "code",
   "execution_count": null,
   "metadata": {},
   "outputs": [],
   "source": []
  }
 ],
 "metadata": {
  "kernelspec": {
   "display_name": "Python 3",
   "language": "python",
   "name": "python3"
  },
  "language_info": {
   "codemirror_mode": {
    "name": "ipython",
    "version": 3
   },
   "file_extension": ".py",
   "mimetype": "text/x-python",
   "name": "python",
   "nbconvert_exporter": "python",
   "pygments_lexer": "ipython3",
   "version": "3.6.0"
  }
 },
 "nbformat": 4,
 "nbformat_minor": 4
}
