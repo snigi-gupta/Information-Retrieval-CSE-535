{
 "cells": [
  {
   "cell_type": "code",
   "execution_count": 7,
   "metadata": {},
   "outputs": [
    {
     "name": "stdout",
     "output_type": "stream",
     "text": [
      "[[1172617650096263176, 'Fri Sep 13 21:06:48 +0000 2019'], [1172269187147997185, 'Thu Sep 12 22:02:08 +0000 2019'], [1171946062011076610, 'Thu Sep 12 00:38:09 +0000 2019'], [1171892639727271936, 'Wed Sep 11 21:05:52 +0000 2019'], [1171829159154331649, 'Wed Sep 11 16:53:37 +0000 2019'], [1171544353665363969, 'Tue Sep 10 22:01:54 +0000 2019'], [1171427856863252482, 'Tue Sep 10 14:18:59 +0000 2019'], [1171416081283649536, 'Tue Sep 10 13:32:12 +0000 2019'], [1171061730203643905, 'Mon Sep 09 14:04:08 +0000 2019']]\n",
      "Reply Count for tweet ID: [1172617650096263176, 'Fri Sep 13 21:06:48 +0000 2019'] =  21\n",
      "Reply Count for tweet ID: [1172269187147997185, 'Thu Sep 12 22:02:08 +0000 2019'] =  21\n",
      "Reply Count for tweet ID: [1171946062011076610, 'Thu Sep 12 00:38:09 +0000 2019'] =  21\n",
      "Reply Count for tweet ID: [1171892639727271936, 'Wed Sep 11 21:05:52 +0000 2019'] =  21\n",
      "Reply Count for tweet ID: [1171829159154331649, 'Wed Sep 11 16:53:37 +0000 2019'] =  21\n",
      "Reply Count for tweet ID: [1171544353665363969, 'Tue Sep 10 22:01:54 +0000 2019'] =  21\n",
      "Reply Count for tweet ID: [1171427856863252482, 'Tue Sep 10 14:18:59 +0000 2019'] =  21\n",
      "Reply Count for tweet ID: [1171416081283649536, 'Tue Sep 10 13:32:12 +0000 2019'] =  21\n",
      "Reply Count for tweet ID: [1171061730203643905, 'Mon Sep 09 14:04:08 +0000 2019'] =  21\n"
     ]
    }
   ],
   "source": [
    "import json\n",
    "import datetime\n",
    "\n",
    "twitter_user = \"MarinaSilva5\"\n",
    "with open(\"cleanedCrawledData/\"+twitter_user+\".json\", \"r\") as f:\n",
    "    data = json.load(f)\n",
    "\n",
    "reply_count = 0\n",
    "\n",
    "one_days_ago = datetime.datetime.today()\n",
    "five_days_ago = datetime.datetime.today() - datetime.timedelta(days=9)\n",
    "tweet_ids = []\n",
    "\n",
    "for tweet in data:\n",
    "    if five_days_ago <= datetime.datetime.strptime(tweet.get('created_at'),'%a %b %d %H:%M:%S +%f %Y') <= one_days_ago:\n",
    "        if tweet.get('replied_to_tweet_id') is None:\n",
    "            tweet_ids.append([tweet.get('id'),tweet.get('created_at')])\n",
    "        \n",
    "print(tweet_ids)\n",
    "\n",
    "for t_ids in tweet_ids:\n",
    "    count = 0\n",
    "    for tweet in data:\n",
    "        if tweet.get('in_reply_to_status_id') is not None and tweet.get('in_reply_to_status_id') == t_ids[0]:\n",
    "            count = count + 1\n",
    "    print(\"Reply Count for tweet ID:\",t_ids, \"= \",count)"
   ]
  },
  {
   "cell_type": "code",
   "execution_count": 81,
   "metadata": {},
   "outputs": [],
   "source": [
    "x = datetime.datetime.today() - datetime.timedelta(days=7) - datetime.datetime.strptime(data[0].get('created_at'), '%a %b %d %H:%M:%S +%f %Y')"
   ]
  },
  {
   "cell_type": "code",
   "execution_count": 20,
   "metadata": {},
   "outputs": [],
   "source": [
    "t = datetime.datetime.today() - datetime.timedelta(days=7)"
   ]
  },
  {
   "cell_type": "code",
   "execution_count": 21,
   "metadata": {},
   "outputs": [
    {
     "data": {
      "text/plain": [
       "datetime.datetime(2019, 9, 8, 1, 1, 29, 774685)"
      ]
     },
     "execution_count": 21,
     "metadata": {},
     "output_type": "execute_result"
    }
   ],
   "source": [
    "t"
   ]
  },
  {
   "cell_type": "code",
   "execution_count": null,
   "metadata": {},
   "outputs": [],
   "source": []
  }
 ],
 "metadata": {
  "kernelspec": {
   "display_name": "Python 3",
   "language": "python",
   "name": "python3"
  },
  "language_info": {
   "codemirror_mode": {
    "name": "ipython",
    "version": 3
   },
   "file_extension": ".py",
   "mimetype": "text/x-python",
   "name": "python",
   "nbconvert_exporter": "python",
   "pygments_lexer": "ipython3",
   "version": "3.6.0"
  }
 },
 "nbformat": 4,
 "nbformat_minor": 4
}
