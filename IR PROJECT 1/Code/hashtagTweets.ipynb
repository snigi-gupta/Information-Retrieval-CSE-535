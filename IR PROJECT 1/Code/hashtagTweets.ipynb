{
 "cells": [
  {
   "cell_type": "code",
   "execution_count": 2,
   "metadata": {},
   "outputs": [],
   "source": [
    "import tweepy\n",
    "import json\n",
    "from tweepy import OAuthHandler, AppAuthHandler\n",
    "from twarc import Twarc\n",
    "import emoji\n",
    "import pytz\n",
    "import datetime\n",
    "from os import listdir\n",
    "from os.path import isfile, join\n",
    "\n",
    "twitterKeys = {'consumer_key' : '57YoNBcWjCcqYaQ8DT1Syuwgb', \n",
    "              'consumer_secret':'5hykB2rsb3dojMkiWkvVWhs9juJPrWZYkFShG79yUKsQhdextT',\n",
    "             'access_token':'884281851237367808-K6xR79CD77Lb5Iv90RXOqFNW4u5eMyZ',\n",
    "             'access_secret': 'BnQmg8NG07wVQyupdPg7T2doK6sgVPvawuWdtkCy7n6fM'}\n",
    "\n",
    "# authenticate\n",
    "auth = AppAuthHandler(twitterKeys['consumer_key'],twitterKeys['consumer_secret'])\n",
    "\n",
    "# create twitter api object\n",
    "tapi = tweepy.API(auth, wait_on_rate_limit=True, wait_on_rate_limit_notify=True)"
   ]
  },
  {
   "cell_type": "code",
   "execution_count": 6,
   "metadata": {},
   "outputs": [
    {
     "name": "stdout",
     "output_type": "stream",
     "text": [
      "[['AmitShah', 1447949844, 'india'], ['BernieSanders', 216776631, 'usa'], ['BolsonaroSP', 74756085, 'brazil'], ['CoryBooker', 15808765, 'usa'], ['Haddad_Fernando', 354095556, 'brazil'], ['jairbolsonaro', 128372940, 'brazil'], ['JoeBiden', 939091, 'usa'], ['KamalaHarris', 30354991, 'California'], ['LulaOficial', 2670726740, 'brazil'], ['MarinaSilva', 105155795, 'brazil'], ['narendramodi', 18839785, 'india'], ['PiyushGoyal', 1324334436, 'india'], ['rajnathsingh', 1346439824, 'india'], ['realDonaldTrump', 25073877, 'usa'], ['yadavakhilesh', 57948579, 'india']]\n"
     ]
    }
   ],
   "source": [
    "# get files in crawledData directory\n",
    "mypath = \"C:/Users/Snigdha Gupta/Documents/Python Scripts/IR Project 1/crawledData\"\n",
    "file_names = [files for files in listdir(mypath) if isfile(join(mypath,files))]\n",
    "# print(file_names)\n",
    "# file_names.remove(\"PiyushGoyal.json\")\n",
    "# print(file_names)\n",
    "list_of_poi = []\n",
    "for file_name in file_names:\n",
    "#     print(file_name)\n",
    "    with open(\"crawledData/\"+file_name,\"r\") as f:\n",
    "#         print(\"file opened in read mode\")\n",
    "        data = json.load(f)\n",
    "        for tweet in data[:1]:\n",
    "#             print(tweet)\n",
    "            list_of_poi.append([tweet.get('poi_name'),tweet.get('poi_id'),tweet.get('country')])\n",
    "\n",
    "print(list_of_poi)\n",
    "\n",
    "# print(list_of_poi[0][0])"
   ]
  },
  {
   "cell_type": "code",
   "execution_count": 7,
   "metadata": {},
   "outputs": [
    {
     "name": "stdout",
     "output_type": "stream",
     "text": [
      "0    ['AmitShah', 1447949844, 'india']\n",
      "1    ['BernieSanders', 216776631, 'usa']\n",
      "2    ['BolsonaroSP', 74756085, 'brazil']\n",
      "3    ['CoryBooker', 15808765, 'usa']\n",
      "4    ['Haddad_Fernando', 354095556, 'brazil']\n",
      "5    ['jairbolsonaro', 128372940, 'brazil']\n",
      "6    ['JoeBiden', 939091, 'usa']\n",
      "7    ['KamalaHarris', 30354991, 'California']\n",
      "8    ['LulaOficial', 2670726740, 'brazil']\n",
      "9    ['MarinaSilva', 105155795, 'brazil']\n",
      "10    ['narendramodi', 18839785, 'india']\n",
      "11    ['PiyushGoyal', 1324334436, 'india']\n",
      "12    ['rajnathsingh', 1346439824, 'india']\n",
      "13    ['realDonaldTrump', 25073877, 'usa']\n",
      "14    ['yadavakhilesh', 57948579, 'india']\n"
     ]
    }
   ],
   "source": [
    "for i,val in enumerate(list_of_poi):\n",
    "    print(i,\"  \",val)"
   ]
  },
  {
   "cell_type": "code",
   "execution_count": 5,
   "metadata": {},
   "outputs": [],
   "source": [
    "# function to extract relaed information from twitter data\n",
    "def parse_tweet_data(poi,tweet,reply_flag=False,retweet_flag=False):\n",
    "    # Extract only relevant data from the tweet json\n",
    "    data = {'poi_name': poi[0],\n",
    "            'poi_id': poi[1],\n",
    "            'verified': tweet.get('user').get('verified'),\n",
    "            'country': poi[2],\n",
    "            'replied_to_tweet_id': tweet.get('in_reply_to_status_id'),\n",
    "            'replied_to_user_id': tweet.get('in_reply_to_user_id'),\n",
    "            'tweet_text': tweet.get('full_text'),\n",
    "            'tweet_lang': tweet.get('lang'),\n",
    "            'hashtags': [h.get('text') for h in tweet.get('entities').get('hashtags')],\n",
    "            'mentions': [m.get('screen_name') for m in tweet.get('entities')['user_mentions']],\n",
    "            'tweet_urls': [u.get('url') for u in tweet.get('entities')['urls']],\n",
    "            'tweet_date': tweet.get('created_at'),\n",
    "            'tweet_loc': tweet.get('geo'),\n",
    "            'retweeted': tweet.get('retweeted'),\n",
    "            'replied_to_screen_name': tweet.get('in_reply_to_screen_name'),\n",
    "            'tweet_emoticons':[e for e in tweet.get(\"full_text\") if e in emoji.UNICODE_EMOJI],\n",
    "            'reply_text': None\n",
    "           }\n",
    "    if reply_flag:\n",
    "        data.update({'reply_text': tweet.get('full_text')})\n",
    "        \n",
    "    if retweet_flag:\n",
    "        data.update({'tweet_text': tweet.get('retweeted_status').get('full_text'),\n",
    "                     'reply_text': tweet.get('retweeted_status').get('full_text')})\n",
    "        \n",
    "        \n",
    "#     # set country\n",
    "#     country_list = {\"usa\": [\"realDonaldTrump\", \"abc\", \"\", \"\", \"\"], \n",
    "#                     \"india\": [\"narendramodi\", \"AmitShah\", \"myogiadityanath\", \"rajnathsingh\", \"yadavakhilesh\"],\n",
    "#                     \"brazil\": [\"jairbolsonaro\", \"BolsonaroSP\", \"Haddad_Fernando\", \"LulaOficial\", \"MarinaSilva\"]}\n",
    "\n",
    "#     for key,val in country_list.items():\n",
    "#         for person in val:\n",
    "#             if person == data.get(\"poi_name\"):\n",
    "#                 data.update({\"country\": key})\n",
    "                \n",
    "    # convert date to GMT\n",
    "    gmt_date = datetime.datetime.strptime(data.get('tweet_date'), '%a %b %d %H:%M:%S +%f %Y')\n",
    "    gmt_date = pytz.utc.localize(gmt_date)\n",
    "    gmt_date = gmt_date.astimezone(pytz.timezone('GMT'))\n",
    "    gmt_date = gmt_date.replace(microsecond=0, second=0, minute=0) + datetime.timedelta(hours=1)\n",
    "    gmt_date = gmt_date.strftime('%Y-%m-%dT%H:%M:%SZ')\n",
    "\n",
    "    data.update({'tweet_date': gmt_date})\n",
    "    \n",
    "    \n",
    "    # update media\n",
    "    try:\n",
    "        data.update({'media_url': [mu.get('url') for mu in tweet.get('entities').get('media')]})\n",
    "    except:\n",
    "        pass\n",
    "    \n",
    "#     if \"media\" in tweet.get('entities').keys():\n",
    "#         data.update({'media_url': [mu.get('url') for mu in tweet.get('entities').get('media')]})\n",
    "#     else:\n",
    "#         data.update({'media_url':[None]})    \n",
    "    # combine data and tweet data\n",
    "    data.update(tweet)\n",
    "    \n",
    "    return data"
   ]
  },
  {
   "cell_type": "code",
   "execution_count": 7,
   "metadata": {},
   "outputs": [
    {
     "name": "stdout",
     "output_type": "stream",
     "text": [
      "['yadavakhilesh', 57948579, 'india']\n",
      "Searching : akhilesh yadav\n",
      "----Start----\n",
      "Total Tweets: 0\n",
      "Retweets: 0\n",
      "Tweets: 0\n",
      "-------------\n",
      "Total Tweets: 1\n",
      "Retweets: 1\n",
      "Tweets: 0\n",
      "Total Tweets: 101\n",
      "Retweets: 100\n",
      "Tweets: 1\n",
      "Total Tweets: 201\n",
      "Retweets: 193\n",
      "Tweets: 8\n",
      "Total Tweets: 301\n",
      "Retweets: 286\n",
      "Tweets: 15\n",
      "Collecting hashtags\n",
      "TOTAL  yadavakhilesh hashtags \t 348\n",
      "---------------------------------------------\n"
     ]
    }
   ],
   "source": [
    "list_of_hashtags = [\"akhilesh yadav\"]\n",
    "# 0 Amit Shah [\"#AmitShah\", \"#Amit shah\", \"amit shah\"]\n",
    "# 1 BernieSanders [\"#BernieYellsForUs\", \"#BernieSanders\", \"Bernie2020\"]\n",
    "# 2 BolsonaroSP [\"#bolsonaroSP\", \"#bolsonaropresidente\", \"#EduardoBolsonaro\", \"#bolsonaronossopresidente\", \"eduardo bolsonaro\"]\n",
    "# 3 CoryBooker [\"#CoryBooker\", \"CoryBooker\", \"#cory2020\", \"corybooker\"]\n",
    "# 4 Haddad_Fernando [\"#HaddadPresidente\", \"#TeamHaddad\", \"Haddad_Fernando\", \"#Fernando Haddad\"]\n",
    "# 5 jairbolsonaro [\"#JairBolsonaro\", \"#BrazilPresident\", \"#jair\"]\n",
    "# 6 Joe Biden [\"#joebiden\", \"#JoeBidenpresident\", \"#biden\", \"#biden2020\"]\n",
    "# 7 KamalaHarris [\"#KamalaHarris\", \"Kamala\", \"DudeGottaGo\"]\n",
    "# 8 LulaOficial [\"#LulaLivre\", \"#LulaLivreja\", \"Luiz Inácio Lula da Silva\", \"#lulapresidente\", \"#LulaLivreJá\"]\n",
    "# 9 MarinaSilva [\"#MarinaSilva\", \"#MarinaSempre\", \"#Provocações\", \"#marinapresidente18\", \"marinapresidente\", \"marina18\", \"Marina Silva\"]\n",
    "# 10 Narendra Modi [\"#NarendraModi\", \"#MODI\", \"PMMOdi\"]\n",
    "# 11 PiyushGoyal [\"#PiyushGoyal\", \"#PiyushHatesMaths\", \"#piyushgoyaloffc\", \"piyushgoyal\"]\n",
    "# 12 rajnathsingh [\"#rajnathsingh\", \"#defenceminister\", \"#rajnath\", \"rajnath\"]\n",
    "# 13 realDonaldTrump [\"#donaldtrump\", \"#trump\", \"realdonaldtrump\"]\n",
    "# 14 yadavakhilesh [\"#akhileshyadav\", \"#akhilesh\", \"#akhileshyadavji\", \"#youngupcm\", \"#yadav\", \"#AkhileshYadavSamajwadi\", \"akhileshyadav\"]\n",
    "\n",
    "poi = list_of_poi[14]\n",
    "print(poi)\n",
    "collect_hashtags = []\n",
    "for q in list_of_hashtags:\n",
    "    \n",
    "    print(\"Searching :\",q)\n",
    "    hashtag_tweets = []\n",
    "    retweet_count = 0\n",
    "    tweet_count = 0\n",
    "    print(\"----Start----\")\n",
    "    print(\"Total Tweets:\",len(hashtag_tweets))\n",
    "    print(\"Retweets:\",retweet_count)\n",
    "    print(\"Tweets:\",tweet_count)\n",
    "    print(\"-------------\")\n",
    "    for i,hashtag in enumerate(tweepy.Cursor(tapi.search,q,tweet_mode='extended').items(4000)):\n",
    "\n",
    "        retweet_flag = False\n",
    "\n",
    "        # check if tweet\n",
    "        h_retweet = hashtag._json.get('retweeted_status')\n",
    "        if h_retweet:\n",
    "#             retweet_flag = True\n",
    "            if retweet_count < 300:\n",
    "                if hashtag._json.get('in_reply_to_status_id'):\n",
    "                    hashtag_tweets.extend([parse_tweet_data(poi,hashtag._json,reply_flag=True,retweet_flag=True)])\n",
    "                else:\n",
    "                    hashtag_tweets.extend([parse_tweet_data(poi,hashtag._json,reply_flag=False,retweet_flag=True)])\n",
    "                retweet_count =retweet_count + 1\n",
    "            else:\n",
    "                continue\n",
    "        elif hashtag._json.get('in_reply_to_status_id') and hashtag._json.get('in_reply_to_user_id') != poi[2]:\n",
    "            tweet_count = tweet_count + 1\n",
    "            hashtag_tweets.extend([parse_tweet_data(poi,hashtag._json,reply_flag=True)])\n",
    "        elif hashtag._json.get('user').get('screen_name') != poi[0]:\n",
    "            tweet_count = tweet_count + 1\n",
    "            hashtag_tweets.extend([parse_tweet_data(poi,hashtag._json,reply_flag=False)])\n",
    "\n",
    "\n",
    "        if i%100 == 0:\n",
    "            print(\"Total Tweets:\",len(hashtag_tweets))\n",
    "            print(\"Retweets:\",retweet_count)\n",
    "            print(\"Tweets:\",tweet_count)\n",
    "        if i>800:\n",
    "            break\n",
    "    print(\"Collecting hashtags\")\n",
    "    collect_hashtags.extend(hashtag_tweets)\n",
    "    print(\"TOTAL \",poi[0], \"hashtags \\t\",len(collect_hashtags))\n",
    "    if len(collect_hashtags) > 1500:\n",
    "        print('1500 hashtagged tweets collected')\n",
    "        break\n",
    "    print(\"---------------------------------------------\")\n",
    "        \n",
    "# print(retweet_count)\n",
    "# print(len(hashtag_tweets))\n"
   ]
  },
  {
   "cell_type": "code",
   "execution_count": 8,
   "metadata": {},
   "outputs": [
    {
     "data": {
      "text/plain": [
       "348"
      ]
     },
     "execution_count": 8,
     "metadata": {},
     "output_type": "execute_result"
    }
   ],
   "source": [
    "len(collect_hashtags)"
   ]
  },
  {
   "cell_type": "code",
   "execution_count": 9,
   "metadata": {},
   "outputs": [
    {
     "name": "stdout",
     "output_type": "stream",
     "text": [
      "348\n"
     ]
    }
   ],
   "source": [
    "x = []\n",
    "x.extend(collect_hashtags)\n",
    "print(len(x))"
   ]
  },
  {
   "cell_type": "code",
   "execution_count": 10,
   "metadata": {},
   "outputs": [
    {
     "name": "stdout",
     "output_type": "stream",
     "text": [
      "Done!\n"
     ]
    }
   ],
   "source": [
    "with open(\"crawledData/HashtagsCrawls/hashtags_\"+poi[0]+\"2.json\",\"w\") as f:\n",
    "    json.dump(x,f)\n",
    "print(\"Done!\")"
   ]
  },
  {
   "cell_type": "code",
   "execution_count": 64,
   "metadata": {},
   "outputs": [
    {
     "name": "stdout",
     "output_type": "stream",
     "text": [
      "this, is a test 'string' to remove punctuations and it's pretty damn hard\n"
     ]
    }
   ],
   "source": [
    "x = \"this, is a test 'string' to remove punctuations and it's pretty damn hard!\"\n",
    "x=x[:-1]\n",
    "print(x)"
   ]
  },
  {
   "cell_type": "code",
   "execution_count": 97,
   "metadata": {},
   "outputs": [
    {
     "data": {
      "text/plain": [
       "['PiyushGoyal', 1324334436, 'india']"
      ]
     },
     "execution_count": 97,
     "metadata": {},
     "output_type": "execute_result"
    }
   ],
   "source": [
    "list_of_poi[11]"
   ]
  },
  {
   "cell_type": "code",
   "execution_count": null,
   "metadata": {},
   "outputs": [],
   "source": []
  }
 ],
 "metadata": {
  "kernelspec": {
   "display_name": "Python 3",
   "language": "python",
   "name": "python3"
  },
  "language_info": {
   "codemirror_mode": {
    "name": "ipython",
    "version": 3
   },
   "file_extension": ".py",
   "mimetype": "text/x-python",
   "name": "python",
   "nbconvert_exporter": "python",
   "pygments_lexer": "ipython3",
   "version": "3.6.0"
  }
 },
 "nbformat": 4,
 "nbformat_minor": 4
}
